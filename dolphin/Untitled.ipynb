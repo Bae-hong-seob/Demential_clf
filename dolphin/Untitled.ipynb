{
 "cells": [
  {
   "cell_type": "code",
   "execution_count": 1,
   "id": "40e61a63",
   "metadata": {},
   "outputs": [],
   "source": [
    "import numpy as np\n",
    "import pandas as pd\n",
    "import math\n",
    "\n",
    "from scipy import stats #Analysis \n",
    "from scipy.stats import norm \n",
    "import seaborn as sns\n",
    "import matplotlib.pyplot as plt\n",
    "from matplotlib import rcParams\n",
    "%matplotlib inline"
   ]
  },
  {
   "cell_type": "code",
   "execution_count": 40,
   "id": "4e4d0fa0",
   "metadata": {},
   "outputs": [],
   "source": [
    "data = pd.read_json(path+\"wearable.json\")"
   ]
  },
  {
   "cell_type": "code",
   "execution_count": 4,
   "id": "f0447eba",
   "metadata": {},
   "outputs": [],
   "source": [
    "path = \"./Dataset/\"\n",
    "\n",
    "data = pd.read_csv(path+\"book_cultureBig.csv\")"
   ]
  },
  {
   "cell_type": "code",
   "execution_count": 6,
   "id": "cd30a090",
   "metadata": {},
   "outputs": [
    {
     "data": {
      "text/html": [
       "<div>\n",
       "<style scoped>\n",
       "    .dataframe tbody tr th:only-of-type {\n",
       "        vertical-align: middle;\n",
       "    }\n",
       "\n",
       "    .dataframe tbody tr th {\n",
       "        vertical-align: top;\n",
       "    }\n",
       "\n",
       "    .dataframe thead th {\n",
       "        text-align: right;\n",
       "    }\n",
       "</style>\n",
       "<table border=\"1\" class=\"dataframe\">\n",
       "  <thead>\n",
       "    <tr style=\"text-align: right;\">\n",
       "      <th></th>\n",
       "      <th>master_seq</th>\n",
       "      <th>isbn13</th>\n",
       "      <th>vol</th>\n",
       "      <th>title</th>\n",
       "      <th>author</th>\n",
       "      <th>publisher</th>\n",
       "      <th>pub_date</th>\n",
       "      <th>add_code</th>\n",
       "      <th>price</th>\n",
       "      <th>img_url</th>\n",
       "      <th>description</th>\n",
       "      <th>kdc_class_no</th>\n",
       "      <th>title_replace</th>\n",
       "      <th>author_replace</th>\n",
       "      <th>pub_date_2</th>\n",
       "      <th>is_coll_aladin</th>\n",
       "      <th>is_coll_naver</th>\n",
       "      <th>isbn_origin</th>\n",
       "    </tr>\n",
       "  </thead>\n",
       "  <tbody>\n",
       "    <tr>\n",
       "      <th>0</th>\n",
       "      <td>6312233</td>\n",
       "      <td>9791134890940</td>\n",
       "      <td>NaN</td>\n",
       "      <td>약사의 혼잣말 8</td>\n",
       "      <td>네코쿠라게 (지은이), 휴우가 나츠 (원작), 시노 토우코 (그림), 나나오 이츠키...</td>\n",
       "      <td>학산문화사(만화)</td>\n",
       "      <td>NaN</td>\n",
       "      <td>NaN</td>\n",
       "      <td>5500.0</td>\n",
       "      <td>https://image.aladin.co.kr/product/28010/57/co...</td>\n",
       "      <td>한 차례 후궁에서 해고되었으나 진시에게 직접 고용되는 형태로 외정 근무를 하게 된 ...</td>\n",
       "      <td>NaN</td>\n",
       "      <td>NaN</td>\n",
       "      <td>NaN</td>\n",
       "      <td>2021-09-27</td>\n",
       "      <td>NaN</td>\n",
       "      <td>NaN</td>\n",
       "      <td>NaN</td>\n",
       "    </tr>\n",
       "    <tr>\n",
       "      <th>1</th>\n",
       "      <td>6312234</td>\n",
       "      <td>9788954682527</td>\n",
       "      <td>NaN</td>\n",
       "      <td>2021 김승옥문학상 수상작품집</td>\n",
       "      <td>문진영, 윤대녕, 손홍규, 안보윤, 진연주, 정용준, 황현진 (지은이)</td>\n",
       "      <td>문학동네</td>\n",
       "      <td>NaN</td>\n",
       "      <td>NaN</td>\n",
       "      <td>10000.0</td>\n",
       "      <td>https://image.aladin.co.kr/product/28055/72/co...</td>\n",
       "      <td>2020 김승옥문학상 수상 작가는 김금희, 은희경, 권여선, 황정은, 정한아, 최은...</td>\n",
       "      <td>NaN</td>\n",
       "      <td>NaN</td>\n",
       "      <td>NaN</td>\n",
       "      <td>2021-10-05</td>\n",
       "      <td>NaN</td>\n",
       "      <td>NaN</td>\n",
       "      <td>NaN</td>\n",
       "    </tr>\n",
       "    <tr>\n",
       "      <th>2</th>\n",
       "      <td>6312235</td>\n",
       "      <td>9788936459574</td>\n",
       "      <td>NaN</td>\n",
       "      <td>나나 (양장)</td>\n",
       "      <td>이희영 (지은이)</td>\n",
       "      <td>창비</td>\n",
       "      <td>NaN</td>\n",
       "      <td>NaN</td>\n",
       "      <td>13000.0</td>\n",
       "      <td>https://image.aladin.co.kr/product/28053/58/co...</td>\n",
       "      <td>한국형 영어덜트 소설의 지평을 넓히는 소설Y 시리즈 첫 권. ‘영혼이 몸을 빠져나온...</td>\n",
       "      <td>NaN</td>\n",
       "      <td>NaN</td>\n",
       "      <td>NaN</td>\n",
       "      <td>2021-10-01</td>\n",
       "      <td>NaN</td>\n",
       "      <td>NaN</td>\n",
       "      <td>NaN</td>\n",
       "    </tr>\n",
       "    <tr>\n",
       "      <th>3</th>\n",
       "      <td>6312236</td>\n",
       "      <td>9791191496055</td>\n",
       "      <td>NaN</td>\n",
       "      <td>설민석의 세계사 대모험 10 - 영국 산업 혁명 편 : 멋진 신세계</td>\n",
       "      <td>설민석, 김정욱 (지은이), 박성일 (그림), 원태준 (감수)</td>\n",
       "      <td>단꿈아이</td>\n",
       "      <td>NaN</td>\n",
       "      <td>NaN</td>\n",
       "      <td>12000.0</td>\n",
       "      <td>https://image.aladin.co.kr/product/28053/49/co...</td>\n",
       "      <td>세계사 현장으로 시간 여행을 떠나, 설쌤이 들려주는 재미있는 세계사 이야기. 마치 ...</td>\n",
       "      <td>NaN</td>\n",
       "      <td>NaN</td>\n",
       "      <td>NaN</td>\n",
       "      <td>2021-09-30</td>\n",
       "      <td>NaN</td>\n",
       "      <td>NaN</td>\n",
       "      <td>NaN</td>\n",
       "    </tr>\n",
       "    <tr>\n",
       "      <th>4</th>\n",
       "      <td>6312237</td>\n",
       "      <td>9791165217006</td>\n",
       "      <td>NaN</td>\n",
       "      <td>반죽부터 다시 시작하는 스콘</td>\n",
       "      <td>하영아 (지은이)</td>\n",
       "      <td>길벗</td>\n",
       "      <td>NaN</td>\n",
       "      <td>NaN</td>\n",
       "      <td>17000.0</td>\n",
       "      <td>https://image.aladin.co.kr/product/28053/47/co...</td>\n",
       "      <td>〈반죽부터 다시 시작하는 베이킹 시리즈〉 1탄카페 사장님들이 열광하는 사월의 물고기...</td>\n",
       "      <td>NaN</td>\n",
       "      <td>NaN</td>\n",
       "      <td>NaN</td>\n",
       "      <td>2021-10-04</td>\n",
       "      <td>NaN</td>\n",
       "      <td>NaN</td>\n",
       "      <td>NaN</td>\n",
       "    </tr>\n",
       "  </tbody>\n",
       "</table>\n",
       "</div>"
      ],
      "text/plain": [
       "   master_seq         isbn13  vol                                  title  \\\n",
       "0     6312233  9791134890940  NaN                              약사의 혼잣말 8   \n",
       "1     6312234  9788954682527  NaN                      2021 김승옥문학상 수상작품집   \n",
       "2     6312235  9788936459574  NaN                                나나 (양장)   \n",
       "3     6312236  9791191496055  NaN  설민석의 세계사 대모험 10 - 영국 산업 혁명 편 : 멋진 신세계   \n",
       "4     6312237  9791165217006  NaN                        반죽부터 다시 시작하는 스콘   \n",
       "\n",
       "                                              author  publisher  pub_date  \\\n",
       "0  네코쿠라게 (지은이), 휴우가 나츠 (원작), 시노 토우코 (그림), 나나오 이츠키...  학산문화사(만화)       NaN   \n",
       "1            문진영, 윤대녕, 손홍규, 안보윤, 진연주, 정용준, 황현진 (지은이)       문학동네       NaN   \n",
       "2                                          이희영 (지은이)         창비       NaN   \n",
       "3                 설민석, 김정욱 (지은이), 박성일 (그림), 원태준 (감수)       단꿈아이       NaN   \n",
       "4                                          하영아 (지은이)         길벗       NaN   \n",
       "\n",
       "   add_code    price                                            img_url  \\\n",
       "0       NaN   5500.0  https://image.aladin.co.kr/product/28010/57/co...   \n",
       "1       NaN  10000.0  https://image.aladin.co.kr/product/28055/72/co...   \n",
       "2       NaN  13000.0  https://image.aladin.co.kr/product/28053/58/co...   \n",
       "3       NaN  12000.0  https://image.aladin.co.kr/product/28053/49/co...   \n",
       "4       NaN  17000.0  https://image.aladin.co.kr/product/28053/47/co...   \n",
       "\n",
       "                                         description  kdc_class_no  \\\n",
       "0  한 차례 후궁에서 해고되었으나 진시에게 직접 고용되는 형태로 외정 근무를 하게 된 ...           NaN   \n",
       "1  2020 김승옥문학상 수상 작가는 김금희, 은희경, 권여선, 황정은, 정한아, 최은...           NaN   \n",
       "2  한국형 영어덜트 소설의 지평을 넓히는 소설Y 시리즈 첫 권. ‘영혼이 몸을 빠져나온...           NaN   \n",
       "3  세계사 현장으로 시간 여행을 떠나, 설쌤이 들려주는 재미있는 세계사 이야기. 마치 ...           NaN   \n",
       "4  〈반죽부터 다시 시작하는 베이킹 시리즈〉 1탄카페 사장님들이 열광하는 사월의 물고기...           NaN   \n",
       "\n",
       "  title_replace author_replace  pub_date_2 is_coll_aladin is_coll_naver  \\\n",
       "0           NaN            NaN  2021-09-27            NaN           NaN   \n",
       "1           NaN            NaN  2021-10-05            NaN           NaN   \n",
       "2           NaN            NaN  2021-10-01            NaN           NaN   \n",
       "3           NaN            NaN  2021-09-30            NaN           NaN   \n",
       "4           NaN            NaN  2021-10-04            NaN           NaN   \n",
       "\n",
       "   isbn_origin  \n",
       "0          NaN  \n",
       "1          NaN  \n",
       "2          NaN  \n",
       "3          NaN  \n",
       "4          NaN  "
      ]
     },
     "execution_count": 6,
     "metadata": {},
     "output_type": "execute_result"
    }
   ],
   "source": [
    "data.head()"
   ]
  },
  {
   "cell_type": "code",
   "execution_count": 7,
   "id": "9579692d",
   "metadata": {},
   "outputs": [
    {
     "data": {
      "text/plain": [
       "Index(['master_seq', 'isbn13', 'vol', 'title', 'author', 'publisher',\n",
       "       'pub_date', 'add_code', 'price', 'img_url', 'description',\n",
       "       'kdc_class_no', 'title_replace', 'author_replace', 'pub_date_2',\n",
       "       'is_coll_aladin', 'is_coll_naver', 'isbn_origin'],\n",
       "      dtype='object')"
      ]
     },
     "execution_count": 7,
     "metadata": {},
     "output_type": "execute_result"
    }
   ],
   "source": [
    "data.columns"
   ]
  },
  {
   "cell_type": "code",
   "execution_count": 47,
   "id": "fd36c064",
   "metadata": {},
   "outputs": [
    {
     "ename": "TypeError",
     "evalue": "unhashable type: 'list'",
     "output_type": "error",
     "traceback": [
      "\u001b[1;31m---------------------------------------------------------------------------\u001b[0m",
      "\u001b[1;31mTypeError\u001b[0m                                 Traceback (most recent call last)",
      "\u001b[1;32mpandas\\_libs\\hashtable_class_helper.pxi\u001b[0m in \u001b[0;36mpandas._libs.hashtable.PyObjectHashTable.map_locations\u001b[1;34m()\u001b[0m\n",
      "\u001b[1;31mTypeError\u001b[0m: unhashable type: 'list'"
     ]
    },
    {
     "name": "stderr",
     "output_type": "stream",
     "text": [
      "Exception ignored in: 'pandas._libs.index.IndexEngine._call_map_locations'\n",
      "Traceback (most recent call last):\n",
      "  File \"pandas\\_libs\\hashtable_class_helper.pxi\", line 5231, in pandas._libs.hashtable.PyObjectHashTable.map_locations\n",
      "TypeError: unhashable type: 'list'\n"
     ]
    },
    {
     "data": {
      "text/plain": [
       "[0]                     4426568\n",
       "[1.121000051498413]      343579\n",
       "[1.1710000038146973]     116325\n",
       "[1.0058000087738037]      47447\n",
       "[0.3961000144481659]      40159\n",
       "                         ...   \n",
       "[2.993910074234009]           1\n",
       "[5444]                        1\n",
       "[3.68825]                     1\n",
       "[2138]                        1\n",
       "[0.24964]                     1\n",
       "Name: value, Length: 3516, dtype: int64"
      ]
     },
     "execution_count": 47,
     "metadata": {},
     "output_type": "execute_result"
    }
   ],
   "source": [
    "data['value'].value_counts()"
   ]
  },
  {
   "cell_type": "code",
   "execution_count": null,
   "id": "f610ee1e",
   "metadata": {},
   "outputs": [],
   "source": []
  },
  {
   "cell_type": "code",
   "execution_count": 16,
   "id": "110a43af",
   "metadata": {},
   "outputs": [
    {
     "data": {
      "text/plain": [
       "No     292422\n",
       "Yes     27373\n",
       "Name: HeartDisease, dtype: int64"
      ]
     },
     "execution_count": 16,
     "metadata": {},
     "output_type": "execute_result"
    }
   ],
   "source": [
    "data['HeartDisease'].value_counts()"
   ]
  },
  {
   "cell_type": "code",
   "execution_count": null,
   "id": "5d614b74",
   "metadata": {},
   "outputs": [],
   "source": []
  }
 ],
 "metadata": {
  "kernelspec": {
   "display_name": "Python 3",
   "language": "python",
   "name": "python3"
  },
  "language_info": {
   "codemirror_mode": {
    "name": "ipython",
    "version": 3
   },
   "file_extension": ".py",
   "mimetype": "text/x-python",
   "name": "python",
   "nbconvert_exporter": "python",
   "pygments_lexer": "ipython3",
   "version": "3.8.12"
  }
 },
 "nbformat": 4,
 "nbformat_minor": 5
}
