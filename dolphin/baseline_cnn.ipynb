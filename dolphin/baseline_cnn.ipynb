{
 "cells": [
  {
   "cell_type": "markdown",
   "id": "ae0b69bf",
   "metadata": {},
   "source": [
    "# Import"
   ]
  },
  {
   "cell_type": "code",
   "execution_count": 1,
   "id": "a80be862",
   "metadata": {},
   "outputs": [],
   "source": [
    "import numpy as np\n",
    "import pandas as pd\n",
    "import os\n",
    "import math\n",
    "import random \n",
    "\n",
    "from scipy import stats #Analysis \n",
    "from scipy.stats import norm \n",
    "\n",
    "import missingno as msno\n",
    "import seaborn as sns\n",
    "import matplotlib.pyplot as plt\n",
    "from matplotlib import rcParams\n",
    "%matplotlib inline"
   ]
  },
  {
   "cell_type": "code",
   "execution_count": 10,
   "id": "3a6c906f",
   "metadata": {},
   "outputs": [],
   "source": [
    "from keras.preprocessing.image import ImageDataGenerator\n",
    "import tensorflow as tf\n",
    "#from tensorflow.keras.utils import load_img\n",
    "from keras.utils import to_categorical\n",
    "from sklearn.model_selection import train_test_split"
   ]
  },
  {
   "cell_type": "markdown",
   "id": "507af345",
   "metadata": {},
   "source": [
    "# 1. Data Load  "
   ]
  },
  {
   "cell_type": "markdown",
   "id": "23305c3e",
   "metadata": {},
   "source": [
    "**치매 예방을 위한 라이프로그 치매 분류**\n",
    "\n",
    "**9,327 rows × 2 columns x 5 picture**\n",
    "\n",
    "For more details https://aihub.or.kr/problem_contest/nipa-learning-platform/6"
   ]
  },
  {
   "cell_type": "code",
   "execution_count": 4,
   "id": "1ff38bc1",
   "metadata": {},
   "outputs": [
    {
     "data": {
      "text/html": [
       "<div>\n",
       "<style scoped>\n",
       "    .dataframe tbody tr th:only-of-type {\n",
       "        vertical-align: middle;\n",
       "    }\n",
       "\n",
       "    .dataframe tbody tr th {\n",
       "        vertical-align: top;\n",
       "    }\n",
       "\n",
       "    .dataframe thead th {\n",
       "        text-align: right;\n",
       "    }\n",
       "</style>\n",
       "<table border=\"1\" class=\"dataframe\">\n",
       "  <thead>\n",
       "    <tr style=\"text-align: right;\">\n",
       "      <th></th>\n",
       "      <th>filename</th>\n",
       "      <th>category</th>\n",
       "    </tr>\n",
       "  </thead>\n",
       "  <tbody>\n",
       "    <tr>\n",
       "      <th>0</th>\n",
       "      <td>CN_0.png</td>\n",
       "      <td>0</td>\n",
       "    </tr>\n",
       "    <tr>\n",
       "      <th>1</th>\n",
       "      <td>CN_1.png</td>\n",
       "      <td>0</td>\n",
       "    </tr>\n",
       "    <tr>\n",
       "      <th>2</th>\n",
       "      <td>CN_10.png</td>\n",
       "      <td>0</td>\n",
       "    </tr>\n",
       "    <tr>\n",
       "      <th>3</th>\n",
       "      <td>CN_1000.png</td>\n",
       "      <td>0</td>\n",
       "    </tr>\n",
       "    <tr>\n",
       "      <th>4</th>\n",
       "      <td>CN_1001.png</td>\n",
       "      <td>0</td>\n",
       "    </tr>\n",
       "    <tr>\n",
       "      <th>...</th>\n",
       "      <td>...</td>\n",
       "      <td>...</td>\n",
       "    </tr>\n",
       "    <tr>\n",
       "      <th>9324</th>\n",
       "      <td>MCI_95.png</td>\n",
       "      <td>1</td>\n",
       "    </tr>\n",
       "    <tr>\n",
       "      <th>9325</th>\n",
       "      <td>MCI_96.png</td>\n",
       "      <td>1</td>\n",
       "    </tr>\n",
       "    <tr>\n",
       "      <th>9326</th>\n",
       "      <td>MCI_97.png</td>\n",
       "      <td>1</td>\n",
       "    </tr>\n",
       "    <tr>\n",
       "      <th>9327</th>\n",
       "      <td>MCI_98.png</td>\n",
       "      <td>1</td>\n",
       "    </tr>\n",
       "    <tr>\n",
       "      <th>9328</th>\n",
       "      <td>MCI_99.png</td>\n",
       "      <td>1</td>\n",
       "    </tr>\n",
       "  </tbody>\n",
       "</table>\n",
       "<p>9329 rows × 2 columns</p>\n",
       "</div>"
      ],
      "text/plain": [
       "         filename  category\n",
       "0        CN_0.png         0\n",
       "1        CN_1.png         0\n",
       "2       CN_10.png         0\n",
       "3     CN_1000.png         0\n",
       "4     CN_1001.png         0\n",
       "...           ...       ...\n",
       "9324   MCI_95.png         1\n",
       "9325   MCI_96.png         1\n",
       "9326   MCI_97.png         1\n",
       "9327   MCI_98.png         1\n",
       "9328   MCI_99.png         1\n",
       "\n",
       "[9329 rows x 2 columns]"
      ]
     },
     "execution_count": 4,
     "metadata": {},
     "output_type": "execute_result"
    }
   ],
   "source": [
    "# original data : data \n",
    "path = \"./Dataset/pic_dataset\"\n",
    "\n",
    "FAST_RUN = False\n",
    "IMAGE_WIDTH=128\n",
    "IMAGE_HEIGHT=128\n",
    "IMAGE_SIZE=(IMAGE_WIDTH, IMAGE_HEIGHT)\n",
    "IMAGE_CHANNELS=1\n",
    "\n",
    "filenames = os.listdir(path)\n",
    "categories = []\n",
    "for filename in filenames:\n",
    "    category = filename.split('_')[0]\n",
    "    if category == 'CN':\n",
    "        categories.append(0)\n",
    "    elif  category == 'MCI':\n",
    "        categories.append(1)\n",
    "    else:\n",
    "        categories.append(2)\n",
    "\n",
    "data = pd.DataFrame({\n",
    "    'filename': filenames,\n",
    "    'category': categories\n",
    "})\n",
    "\n",
    "data"
   ]
  },
  {
   "cell_type": "markdown",
   "id": "d0c72751",
   "metadata": {},
   "source": [
    "# 2. EDA  \n",
    "\n",
    "**9,327 rows × 66 columns**\n",
    "\n",
    "148명에 대한 데일리 라이프로그 데이터  \n",
    "크게 **1. 기본 정보 2. 걸음거리 3.수면 4.컨버팅 데이터**로 나눌 수 있겠습니다. \n",
    "\n",
    "**4. converting**\n",
    "- CONVERT(activity_class_5min USING utf8)    \n",
    "- CONVERT(activity_met_1min USING utf8)      \n",
    "- CONVERT(sleep_hr_5min USING utf8)          \n",
    "- CONVERT(sleep_hypnogram_5min USING utf8)  \n",
    "- CONVERT(sleep_rmssd_5min USING utf8) \n",
    "\n",
    "**y variable**\n",
    "- DIAG_NM \n",
    "    - 정상(CN), 경도인지 장애(MCI), 치매(Dem)"
   ]
  },
  {
   "cell_type": "code",
   "execution_count": 5,
   "id": "3d9e37d2",
   "metadata": {},
   "outputs": [
    {
     "name": "stdout",
     "output_type": "stream",
     "text": [
      "<class 'pandas.core.frame.DataFrame'>\n",
      "RangeIndex: 9329 entries, 0 to 9328\n",
      "Data columns (total 2 columns):\n",
      " #   Column    Non-Null Count  Dtype \n",
      "---  ------    --------------  ----- \n",
      " 0   filename  9329 non-null   object\n",
      " 1   category  9329 non-null   int64 \n",
      "dtypes: int64(1), object(1)\n",
      "memory usage: 145.9+ KB\n"
     ]
    }
   ],
   "source": [
    "data.info()"
   ]
  },
  {
   "cell_type": "markdown",
   "id": "b4808801",
   "metadata": {},
   "source": [
    "# 3. Preprocessing \n",
    "\n",
    "**9,327 rows × 2 columns × 5 pictures**\n",
    "\n",
    "|**===================Default 하게 진행======================**\n",
    "\n",
    "CNN 모델에서는 converting feature를 png로 변환한 데이터를 사용할 예정 (이와 관련하여 create_pic_dataset.ipynb 참고할 것!)\n",
    "\n",
    "**feature processing**\n",
    "- astype : float \n",
    "- sig1_data, sig2_data, sig3_data, sig4_data, sig5_data \n",
    "    - CONVERT(activity_class_5min USING utf8)    \n",
    "    - CONVERT(activity_met_1min USING utf8)      \n",
    "    - CONVERT(sleep_hr_5min USING utf8)          \n",
    "    - CONVERT(sleep_hypnogram_5min USING utf8)  \n",
    "    - CONVERT(sleep_rmssd_5min USING utf8) \n",
    "\n",
    "**=========================Y Varible=========================**\n",
    "\n",
    "- DIAG_NM \n",
    "    - 정상(CN), 경도인지 장애(MCI), 치매(Dem)\n",
    "    - Lable Encoding "
   ]
  },
  {
   "cell_type": "code",
   "execution_count": 6,
   "id": "724c5af3",
   "metadata": {},
   "outputs": [],
   "source": [
    "# data를 따로 관리합니다 \n",
    "# original data -> data \n",
    "# preprocessing data -> processed_data\n",
    "processed_data = data.copy()"
   ]
  },
  {
   "cell_type": "code",
   "execution_count": 13,
   "id": "3af7612b",
   "metadata": {},
   "outputs": [
    {
     "data": {
      "text/plain": [
       "<matplotlib.image.AxesImage at 0x23e7c899220>"
      ]
     },
     "execution_count": 13,
     "metadata": {},
     "output_type": "execute_result"
    },
    {
     "data": {
      "image/png": "[encoded data removed]",
      "text/plain": [
       "<Figure size 432x288 with 1 Axes>"
      ]
     },
     "metadata": {
      "needs_background": "light"
     },
     "output_type": "display_data"
    }
   ],
   "source": [
    "sample = random.choice(filenames)\n",
    "image = tf.keras.preprocessing.image.load_img (path+\"/\"+sample)\n",
    "plt.imshow(image)"
   ]
  },
  {
   "cell_type": "markdown",
   "id": "2520471a",
   "metadata": {},
   "source": [
    "# 4. Data Split + y Variable Processing \n",
    "\n",
    "모든 전처리와 y variable labeling이 완료되었다.  \n",
    "train / valid / test data로 분할하고 용도에 맞게 model을 돌리도록 하자.\n",
    "\n",
    "- **3d - array 처리** \n",
    "    - Sequential model 의 input layer에는 ndarray 데이터만 들어가야 함\n",
    "- **y 변수 두 가지로 encoding** \n",
    "    - Label Encoding (le) -> sparse_categorical_crossentropy 실험 \n",
    "    - One Hot Encoding (ohe) -> categorical_crossentropy 실험 \n",
    "- **train / test** \n",
    "    - Sequential model option 중 validation dataset을 자동으로 나눠주는 것이 존재 하므로 \n",
    "\n",
    "\n",
    "- 즉 다음과 같은 조합이 하나의 dataset 이며  \n",
    "    - input_data_X1 + input_data_y_le + input_data_y_ohe\n",
    "    - 실험은 한 모델당 두 가지 y 변수로 2번 실험하면 됨\n",
    "    - **inpu_data_X1_le + input_data_y_le**\n",
    "    - **inpu_data_X1_ohe + input_data_y_ohe**"
   ]
  },
  {
   "cell_type": "markdown",
   "id": "977e012e",
   "metadata": {},
   "source": [
    "# 5. Modeling - DL \n",
    "\n",
    "- **simple RNN** \n",
    "    - ohe **0.638**\n",
    "    - le **0.639**\n",
    "- **multi-layer RNN**\n",
    "    - ohe 0.637\n",
    "    - le 0.637\n",
    "- **simple LSTM**\n",
    "    - ohe \n",
    "    - le \n",
    "- **multi-layer LSTM**\n",
    "    - ohe \n",
    "    - le "
   ]
  },
  {
   "cell_type": "code",
   "execution_count": 437,
   "id": "50fb9657",
   "metadata": {
    "scrolled": false
   },
   "outputs": [
    {
     "name": "stdout",
     "output_type": "stream",
     "text": [
      "Model: \"sequential_44\"\n",
      "_________________________________________________________________\n",
      " Layer (type)                Output Shape              Param #   \n",
      "=================================================================\n",
      " conv2d_113 (Conv2D)         (None, 126, 126, 32)      320       \n",
      "                                                                 \n",
      " batch_normalization_78 (Bat  (None, 126, 126, 32)     128       \n",
      " chNormalization)                                                \n",
      "                                                                 \n",
      " max_pooling2d_116 (MaxPooli  (None, 63, 63, 32)       0         \n",
      " ng2D)                                                           \n",
      "                                                                 \n",
      " dropout_123 (Dropout)       (None, 63, 63, 32)        0         \n",
      "                                                                 \n",
      " conv2d_114 (Conv2D)         (None, 61, 61, 64)        18496     \n",
      "                                                                 \n",
      " batch_normalization_79 (Bat  (None, 61, 61, 64)       256       \n",
      " chNormalization)                                                \n",
      "                                                                 \n",
      " max_pooling2d_117 (MaxPooli  (None, 30, 30, 64)       0         \n",
      " ng2D)                                                           \n",
      "                                                                 \n",
      " dropout_124 (Dropout)       (None, 30, 30, 64)        0         \n",
      "                                                                 \n",
      " conv2d_115 (Conv2D)         (None, 28, 28, 128)       73856     \n",
      "                                                                 \n",
      " batch_normalization_80 (Bat  (None, 28, 28, 128)      512       \n",
      " chNormalization)                                                \n",
      "                                                                 \n",
      " max_pooling2d_118 (MaxPooli  (None, 14, 14, 128)      0         \n",
      " ng2D)                                                           \n",
      "                                                                 \n",
      " dropout_125 (Dropout)       (None, 14, 14, 128)       0         \n",
      "                                                                 \n",
      " flatten_41 (Flatten)        (None, 25088)             0         \n",
      "                                                                 \n",
      " dense_80 (Dense)            (None, 512)               12845568  \n",
      "                                                                 \n",
      " batch_normalization_81 (Bat  (None, 512)              2048      \n",
      " chNormalization)                                                \n",
      "                                                                 \n",
      " dropout_126 (Dropout)       (None, 512)               0         \n",
      "                                                                 \n",
      " dense_81 (Dense)            (None, 3)                 1539      \n",
      "                                                                 \n",
      "=================================================================\n",
      "Total params: 12,942,723\n",
      "Trainable params: 12,941,251\n",
      "Non-trainable params: 1,472\n",
      "_________________________________________________________________\n"
     ]
    }
   ],
   "source": [
    "from keras.models import Sequential\n",
    "from keras.layers import Conv2D, MaxPooling2D, Dropout, Flatten, Dense, Activation, BatchNormalization\n",
    "from keras.callbacks import EarlyStopping, ReduceLROnPlateau\n",
    "\n",
    "model = Sequential()\n",
    "\n",
    "model.add(Conv2D(32, (3, 3), activation='relu', input_shape=(IMAGE_WIDTH, IMAGE_HEIGHT, IMAGE_CHANNELS)))\n",
    "model.add(BatchNormalization())\n",
    "model.add(MaxPooling2D(pool_size=(2, 2)))\n",
    "model.add(Dropout(0.25))\n",
    "\n",
    "model.add(Conv2D(64, (3, 3), activation='relu'))\n",
    "model.add(BatchNormalization())\n",
    "model.add(MaxPooling2D(pool_size=(2, 2)))\n",
    "model.add(Dropout(0.25))\n",
    "\n",
    "model.add(Conv2D(128, (3, 3), activation='relu'))\n",
    "model.add(BatchNormalization())\n",
    "model.add(MaxPooling2D(pool_size=(2, 2)))\n",
    "model.add(Dropout(0.25))\n",
    "\n",
    "model.add(Flatten())\n",
    "model.add(Dense(512, activation='relu'))\n",
    "model.add(BatchNormalization())\n",
    "model.add(Dropout(0.5))\n",
    "model.add(Dense(3, activation='softmax')) # 2 because we have cat and dog classes\n",
    "\n",
    "model.compile(loss='categorical_crossentropy', optimizer='rmsprop', metrics=['accuracy'])\n",
    "\n",
    "model.summary()"
   ]
  },
  {
   "cell_type": "code",
   "execution_count": 438,
   "id": "95fa5d23",
   "metadata": {},
   "outputs": [
    {
     "name": "stdout",
     "output_type": "stream",
     "text": [
      "Model: \"sequential_45\"\n",
      "_________________________________________________________________\n",
      " Layer (type)                Output Shape              Param #   \n",
      "=================================================================\n",
      " conv2d_116 (Conv2D)         (None, 128, 128, 32)      320       \n",
      "                                                                 \n",
      " max_pooling2d_119 (MaxPooli  (None, 64, 64, 32)       0         \n",
      " ng2D)                                                           \n",
      "                                                                 \n",
      " conv2d_117 (Conv2D)         (None, 64, 64, 48)        13872     \n",
      "                                                                 \n",
      " max_pooling2d_120 (MaxPooli  (None, 32, 32, 48)       0         \n",
      " ng2D)                                                           \n",
      "                                                                 \n",
      " dropout_127 (Dropout)       (None, 32, 32, 48)        0         \n",
      "                                                                 \n",
      " conv2d_118 (Conv2D)         (None, 32, 32, 64)        27712     \n",
      "                                                                 \n",
      " max_pooling2d_121 (MaxPooli  (None, 16, 16, 64)       0         \n",
      " ng2D)                                                           \n",
      "                                                                 \n",
      " conv2d_119 (Conv2D)         (None, 16, 16, 96)        55392     \n",
      "                                                                 \n",
      " max_pooling2d_122 (MaxPooli  (None, 8, 8, 96)         0         \n",
      " ng2D)                                                           \n",
      "                                                                 \n",
      " dropout_128 (Dropout)       (None, 8, 8, 96)          0         \n",
      "                                                                 \n",
      " flatten_42 (Flatten)        (None, 6144)              0         \n",
      "                                                                 \n",
      " dense_82 (Dense)            (None, 256)               1573120   \n",
      "                                                                 \n",
      " dropout_129 (Dropout)       (None, 256)               0         \n",
      "                                                                 \n",
      " dense_83 (Dense)            (None, 3)                 771       \n",
      "                                                                 \n",
      "=================================================================\n",
      "Total params: 1,671,187\n",
      "Trainable params: 1,671,187\n",
      "Non-trainable params: 0\n",
      "_________________________________________________________________\n"
     ]
    }
   ],
   "source": [
    "from keras.models import Sequential\n",
    "from keras.layers import Conv2D, MaxPooling2D, Dropout, Flatten, Dense, Activation, BatchNormalization\n",
    "\n",
    "model = Sequential()\n",
    "\n",
    "model.add(Conv2D(32, 3, activation='relu', padding=\"same\", input_shape=(IMAGE_WIDTH, IMAGE_HEIGHT, IMAGE_CHANNELS)))\n",
    "model.add(MaxPooling2D(pool_size=(2, 2)))\n",
    "\n",
    "model.add(Conv2D(48, 3, activation='relu', padding=\"same\"))\n",
    "model.add(MaxPooling2D(pool_size=(2, 2)))\n",
    "model.add(Dropout(0.5))\n",
    "\n",
    "model.add(Conv2D(64, 3, activation='relu', padding=\"same\"))\n",
    "model.add(MaxPooling2D(pool_size=(2, 2)))\n",
    "\n",
    "model.add(Conv2D(96, 3, activation='relu', padding=\"same\"))\n",
    "model.add(MaxPooling2D(pool_size=(2, 2)))\n",
    "model.add(Dropout(0.5))\n",
    "\n",
    "model.add(Flatten())\n",
    "model.add(Dense(256, activation='relu'))\n",
    "model.add(Dropout(0.5))\n",
    "model.add(Dense(3, activation='sigmoid')) # 2 because we have cat and dog classes\n",
    "\n",
    "model.compile(loss='categorical_crossentropy', optimizer='rmsprop', metrics=['accuracy'])\n",
    "\n",
    "model.summary()"
   ]
  },
  {
   "cell_type": "code",
   "execution_count": 440,
   "id": "c915f448",
   "metadata": {},
   "outputs": [],
   "source": [
    "earlystop = EarlyStopping(patience=10)"
   ]
  },
  {
   "cell_type": "code",
   "execution_count": 441,
   "id": "e0d57900",
   "metadata": {},
   "outputs": [],
   "source": [
    "learning_rate_reduction = ReduceLROnPlateau(monitor='val_acc', \n",
    "                                            patience=2, \n",
    "                                            verbose=1, \n",
    "                                            factor=0.5, \n",
    "                                            min_lr=0.00001)"
   ]
  },
  {
   "cell_type": "code",
   "execution_count": 442,
   "id": "dcec4652",
   "metadata": {},
   "outputs": [],
   "source": [
    "callbacks = [earlystop, learning_rate_reduction]"
   ]
  },
  {
   "cell_type": "code",
   "execution_count": 443,
   "id": "84efb7d0",
   "metadata": {},
   "outputs": [],
   "source": [
    "df[\"category\"] = df[\"category\"].replace({0: 'CN', 1: 'MCI', 2: 'Dem'}) "
   ]
  },
  {
   "cell_type": "code",
   "execution_count": 444,
   "id": "85c89646",
   "metadata": {},
   "outputs": [],
   "source": [
    "train_df, validate_df = train_test_split(df, test_size=0.20, random_state=42)\n",
    "train_df = train_df.reset_index(drop=True)\n",
    "validate_df = validate_df.reset_index(drop=True)"
   ]
  },
  {
   "cell_type": "code",
   "execution_count": 447,
   "id": "9dba5845",
   "metadata": {},
   "outputs": [],
   "source": [
    "total_train = train_df.shape[0]\n",
    "total_validate = validate_df.shape[0]\n",
    "batch_size=15"
   ]
  },
  {
   "cell_type": "code",
   "execution_count": 448,
   "id": "753254c9",
   "metadata": {},
   "outputs": [
    {
     "name": "stdout",
     "output_type": "stream",
     "text": [
      "Found 7462 validated image filenames belonging to 3 classes.\n"
     ]
    }
   ],
   "source": [
    "train_datagen = ImageDataGenerator(rescale=1./255)\n",
    "\n",
    "train_generator = train_datagen.flow_from_dataframe(\n",
    "    train_df, \n",
    "    \"C:/Users/okchr/mechine_learning/inputG\", \n",
    "    x_col='filename',\n",
    "    y_col='category',\n",
    "    target_size=IMAGE_SIZE,\n",
    "    color_mode='grayscale',\n",
    "    class_mode='categorical',\n",
    "    batch_size=batch_size,\n",
    ")"
   ]
  },
  {
   "cell_type": "code",
   "execution_count": 449,
   "id": "b90d16bc",
   "metadata": {},
   "outputs": [
    {
     "name": "stdout",
     "output_type": "stream",
     "text": [
      "Found 1865 validated image filenames belonging to 3 classes.\n"
     ]
    },
    {
     "name": "stderr",
     "output_type": "stream",
     "text": [
      "C:\\Users\\okchr\\anaconda3\\lib\\site-packages\\keras\\preprocessing\\image.py:989: UserWarning: Found 1 invalid image filename(s) in x_col=\"filename\". These filename(s) will be ignored.\n",
      "  warnings.warn('Found {} invalid image filename(s) in x_col=\"{}\". '\n"
     ]
    }
   ],
   "source": [
    "validation_datagen = ImageDataGenerator(rescale=1./255)\n",
    "validation_generator = validation_datagen.flow_from_dataframe(\n",
    "    validate_df, \n",
    "    \"C:/Users/okchr/mechine_learning/inputG\", \n",
    "    x_col='filename',\n",
    "    y_col='category',\n",
    "    target_size=IMAGE_SIZE,\n",
    "    color_mode='grayscale',\n",
    "    class_mode='categorical',\n",
    "    batch_size=batch_size\n",
    ")"
   ]
  },
  {
   "cell_type": "code",
   "execution_count": 450,
   "id": "2a2c1f15",
   "metadata": {},
   "outputs": [
    {
     "name": "stdout",
     "output_type": "stream",
     "text": [
      "Found 1 validated image filenames belonging to 1 classes.\n"
     ]
    }
   ],
   "source": [
    "example_df = train_df.sample(n=1).reset_index(drop=True)\n",
    "example_generator = train_datagen.flow_from_dataframe(\n",
    "    example_df, \n",
    "    \"C:/Users/okchr/mechine_learning/inputG\", \n",
    "    x_col='filename',\n",
    "    y_col='category',\n",
    "    target_size=IMAGE_SIZE,\n",
    "    color_mode='grayscale',\n",
    "    class_mode='categorical',\n",
    ")"
   ]
  },
  {
   "cell_type": "code",
   "execution_count": 451,
   "id": "5878a915",
   "metadata": {},
   "outputs": [
    {
     "data": {
      "image/png": "[encoded data removed]",
      "text/plain": [
       "<Figure size 864x864 with 15 Axes>"
      ]
     },
     "metadata": {
      "needs_background": "light"
     },
     "output_type": "display_data"
    }
   ],
   "source": [
    "plt.figure(figsize=(12, 12))\n",
    "for i in range(0, 15):\n",
    "    plt.subplot(5, 3, i+1)\n",
    "    for X_batch, Y_batch in example_generator:\n",
    "        image = X_batch[0]\n",
    "        plt.imshow(image)\n",
    "        break\n",
    "plt.tight_layout()\n",
    "plt.show()"
   ]
  },
  {
   "cell_type": "code",
   "execution_count": 452,
   "id": "e7a33747",
   "metadata": {
    "scrolled": false
   },
   "outputs": [
    {
     "name": "stdout",
     "output_type": "stream",
     "text": [
      "Epoch 1/50\n"
     ]
    },
    {
     "name": "stderr",
     "output_type": "stream",
     "text": [
      "C:\\Users\\okchr\\AppData\\Local\\Temp/ipykernel_1112/612699584.py:2: UserWarning: `Model.fit_generator` is deprecated and will be removed in a future version. Please use `Model.fit`, which supports generators.\n",
      "  history = model.fit_generator(\n"
     ]
    },
    {
     "name": "stdout",
     "output_type": "stream",
     "text": [
      "497/497 [==============================] - ETA: 0s - loss: 0.8567 - accuracy: 0.6404WARNING:tensorflow:Learning rate reduction is conditioned on metric `val_acc` which is not available. Available metrics are: loss,accuracy,val_loss,val_accuracy,lr\n",
      "497/497 [==============================] - 161s 323ms/step - loss: 0.8567 - accuracy: 0.6404 - val_loss: 0.8407 - val_accuracy: 0.6323 - lr: 0.0010\n",
      "Epoch 2/50\n",
      "497/497 [==============================] - ETA: 0s - loss: 0.8370 - accuracy: 0.6421WARNING:tensorflow:Learning rate reduction is conditioned on metric `val_acc` which is not available. Available metrics are: loss,accuracy,val_loss,val_accuracy,lr\n",
      "497/497 [==============================] - 137s 276ms/step - loss: 0.8370 - accuracy: 0.6421 - val_loss: 0.8874 - val_accuracy: 0.6317 - lr: 0.0010\n",
      "Epoch 3/50\n",
      "497/497 [==============================] - ETA: 0s - loss: 0.8353 - accuracy: 0.6419WARNING:tensorflow:Learning rate reduction is conditioned on metric `val_acc` which is not available. Available metrics are: loss,accuracy,val_loss,val_accuracy,lr\n",
      "497/497 [==============================] - 137s 276ms/step - loss: 0.8353 - accuracy: 0.6419 - val_loss: 0.8389 - val_accuracy: 0.6323 - lr: 0.0010\n",
      "Epoch 4/50\n",
      "497/497 [==============================] - ETA: 0s - loss: 0.8310 - accuracy: 0.6421WARNING:tensorflow:Learning rate reduction is conditioned on metric `val_acc` which is not available. Available metrics are: loss,accuracy,val_loss,val_accuracy,lr\n",
      "497/497 [==============================] - 138s 277ms/step - loss: 0.8310 - accuracy: 0.6421 - val_loss: 0.8159 - val_accuracy: 0.6317 - lr: 0.0010\n",
      "Epoch 5/50\n",
      "497/497 [==============================] - ETA: 0s - loss: 0.8154 - accuracy: 0.6409WARNING:tensorflow:Learning rate reduction is conditioned on metric `val_acc` which is not available. Available metrics are: loss,accuracy,val_loss,val_accuracy,lr\n",
      "497/497 [==============================] - 139s 280ms/step - loss: 0.8154 - accuracy: 0.6409 - val_loss: 0.8595 - val_accuracy: 0.6323 - lr: 0.0010\n",
      "Epoch 6/50\n",
      "497/497 [==============================] - ETA: 0s - loss: 0.8088 - accuracy: 0.6431WARNING:tensorflow:Learning rate reduction is conditioned on metric `val_acc` which is not available. Available metrics are: loss,accuracy,val_loss,val_accuracy,lr\n",
      "497/497 [==============================] - 139s 280ms/step - loss: 0.8088 - accuracy: 0.6431 - val_loss: 0.7923 - val_accuracy: 0.6306 - lr: 0.0010\n",
      "Epoch 7/50\n",
      "497/497 [==============================] - ETA: 0s - loss: 0.8038 - accuracy: 0.6417WARNING:tensorflow:Learning rate reduction is conditioned on metric `val_acc` which is not available. Available metrics are: loss,accuracy,val_loss,val_accuracy,lr\n",
      "497/497 [==============================] - 139s 280ms/step - loss: 0.8038 - accuracy: 0.6417 - val_loss: 0.7991 - val_accuracy: 0.6312 - lr: 0.0010\n",
      "Epoch 8/50\n",
      "497/497 [==============================] - ETA: 0s - loss: 0.7962 - accuracy: 0.6413WARNING:tensorflow:Learning rate reduction is conditioned on metric `val_acc` which is not available. Available metrics are: loss,accuracy,val_loss,val_accuracy,lr\n",
      "497/497 [==============================] - 139s 281ms/step - loss: 0.7962 - accuracy: 0.6413 - val_loss: 0.7847 - val_accuracy: 0.6323 - lr: 0.0010\n",
      "Epoch 9/50\n",
      "497/497 [==============================] - ETA: 0s - loss: 0.7911 - accuracy: 0.6443WARNING:tensorflow:Learning rate reduction is conditioned on metric `val_acc` which is not available. Available metrics are: loss,accuracy,val_loss,val_accuracy,lr\n",
      "497/497 [==============================] - 139s 280ms/step - loss: 0.7911 - accuracy: 0.6443 - val_loss: 0.7882 - val_accuracy: 0.6312 - lr: 0.0010\n",
      "Epoch 10/50\n",
      "497/497 [==============================] - ETA: 0s - loss: 0.7880 - accuracy: 0.6471WARNING:tensorflow:Learning rate reduction is conditioned on metric `val_acc` which is not available. Available metrics are: loss,accuracy,val_loss,val_accuracy,lr\n",
      "497/497 [==============================] - 140s 282ms/step - loss: 0.7880 - accuracy: 0.6471 - val_loss: 0.7842 - val_accuracy: 0.6355 - lr: 0.0010\n",
      "Epoch 11/50\n",
      "497/497 [==============================] - ETA: 0s - loss: 0.7844 - accuracy: 0.6424WARNING:tensorflow:Learning rate reduction is conditioned on metric `val_acc` which is not available. Available metrics are: loss,accuracy,val_loss,val_accuracy,lr\n",
      "497/497 [==============================] - 140s 281ms/step - loss: 0.7844 - accuracy: 0.6424 - val_loss: 0.7667 - val_accuracy: 0.6371 - lr: 0.0010\n",
      "Epoch 12/50\n",
      "497/497 [==============================] - ETA: 0s - loss: 0.7870 - accuracy: 0.6466WARNING:tensorflow:Learning rate reduction is conditioned on metric `val_acc` which is not available. Available metrics are: loss,accuracy,val_loss,val_accuracy,lr\n",
      "497/497 [==============================] - 139s 279ms/step - loss: 0.7870 - accuracy: 0.6466 - val_loss: 0.7854 - val_accuracy: 0.6317 - lr: 0.0010\n",
      "Epoch 13/50\n",
      "497/497 [==============================] - ETA: 0s - loss: 0.7840 - accuracy: 0.6468WARNING:tensorflow:Learning rate reduction is conditioned on metric `val_acc` which is not available. Available metrics are: loss,accuracy,val_loss,val_accuracy,lr\n",
      "497/497 [==============================] - 139s 280ms/step - loss: 0.7840 - accuracy: 0.6468 - val_loss: 0.7859 - val_accuracy: 0.6333 - lr: 0.0010\n",
      "Epoch 14/50\n",
      "497/497 [==============================] - ETA: 0s - loss: 0.7869 - accuracy: 0.6466WARNING:tensorflow:Learning rate reduction is conditioned on metric `val_acc` which is not available. Available metrics are: loss,accuracy,val_loss,val_accuracy,lr\n",
      "497/497 [==============================] - 139s 280ms/step - loss: 0.7869 - accuracy: 0.6466 - val_loss: 0.7744 - val_accuracy: 0.6349 - lr: 0.0010\n",
      "Epoch 15/50\n",
      "497/497 [==============================] - ETA: 0s - loss: 0.7872 - accuracy: 0.6460WARNING:tensorflow:Learning rate reduction is conditioned on metric `val_acc` which is not available. Available metrics are: loss,accuracy,val_loss,val_accuracy,lr\n",
      "497/497 [==============================] - 88s 177ms/step - loss: 0.7872 - accuracy: 0.6460 - val_loss: 0.7588 - val_accuracy: 0.6425 - lr: 0.0010\n",
      "Epoch 16/50\n",
      "497/497 [==============================] - ETA: 0s - loss: 0.7827 - accuracy: 0.6464WARNING:tensorflow:Learning rate reduction is conditioned on metric `val_acc` which is not available. Available metrics are: loss,accuracy,val_loss,val_accuracy,lr\n",
      "497/497 [==============================] - 96s 194ms/step - loss: 0.7827 - accuracy: 0.6464 - val_loss: 0.7741 - val_accuracy: 0.6349 - lr: 0.0010\n",
      "Epoch 17/50\n",
      "497/497 [==============================] - ETA: 0s - loss: 0.7782 - accuracy: 0.6466WARNING:tensorflow:Learning rate reduction is conditioned on metric `val_acc` which is not available. Available metrics are: loss,accuracy,val_loss,val_accuracy,lr\n",
      "497/497 [==============================] - 112s 226ms/step - loss: 0.7782 - accuracy: 0.6466 - val_loss: 0.7775 - val_accuracy: 0.6355 - lr: 0.0010\n",
      "Epoch 18/50\n",
      "497/497 [==============================] - ETA: 0s - loss: 0.7836 - accuracy: 0.6503WARNING:tensorflow:Learning rate reduction is conditioned on metric `val_acc` which is not available. Available metrics are: loss,accuracy,val_loss,val_accuracy,lr\n",
      "497/497 [==============================] - 134s 269ms/step - loss: 0.7836 - accuracy: 0.6503 - val_loss: 0.7822 - val_accuracy: 0.6376 - lr: 0.0010\n",
      "Epoch 19/50\n",
      "497/497 [==============================] - ETA: 0s - loss: 0.7908 - accuracy: 0.6468WARNING:tensorflow:Learning rate reduction is conditioned on metric `val_acc` which is not available. Available metrics are: loss,accuracy,val_loss,val_accuracy,lr\n",
      "497/497 [==============================] - 141s 283ms/step - loss: 0.7908 - accuracy: 0.6468 - val_loss: 0.7621 - val_accuracy: 0.6457 - lr: 0.0010\n",
      "Epoch 20/50\n",
      "497/497 [==============================] - ETA: 0s - loss: 0.7824 - accuracy: 0.6478WARNING:tensorflow:Learning rate reduction is conditioned on metric `val_acc` which is not available. Available metrics are: loss,accuracy,val_loss,val_accuracy,lr\n",
      "497/497 [==============================] - 141s 284ms/step - loss: 0.7824 - accuracy: 0.6478 - val_loss: 0.7682 - val_accuracy: 0.6366 - lr: 0.0010\n",
      "Epoch 21/50\n",
      "497/497 [==============================] - ETA: 0s - loss: 0.7797 - accuracy: 0.6458WARNING:tensorflow:Learning rate reduction is conditioned on metric `val_acc` which is not available. Available metrics are: loss,accuracy,val_loss,val_accuracy,lr\n",
      "497/497 [==============================] - 136s 274ms/step - loss: 0.7797 - accuracy: 0.6458 - val_loss: 0.7719 - val_accuracy: 0.6425 - lr: 0.0010\n",
      "Epoch 22/50\n",
      "497/497 [==============================] - ETA: 0s - loss: 0.7797 - accuracy: 0.6527WARNING:tensorflow:Learning rate reduction is conditioned on metric `val_acc` which is not available. Available metrics are: loss,accuracy,val_loss,val_accuracy,lr\n",
      "497/497 [==============================] - 137s 275ms/step - loss: 0.7797 - accuracy: 0.6527 - val_loss: 0.7763 - val_accuracy: 0.6376 - lr: 0.0010\n",
      "Epoch 23/50\n",
      "497/497 [==============================] - ETA: 0s - loss: 0.7778 - accuracy: 0.6517WARNING:tensorflow:Learning rate reduction is conditioned on metric `val_acc` which is not available. Available metrics are: loss,accuracy,val_loss,val_accuracy,lr\n",
      "497/497 [==============================] - 136s 274ms/step - loss: 0.7778 - accuracy: 0.6517 - val_loss: 0.7702 - val_accuracy: 0.6425 - lr: 0.0010\n",
      "Epoch 24/50\n",
      "497/497 [==============================] - ETA: 0s - loss: 0.7801 - accuracy: 0.6486WARNING:tensorflow:Learning rate reduction is conditioned on metric `val_acc` which is not available. Available metrics are: loss,accuracy,val_loss,val_accuracy,lr\n",
      "497/497 [==============================] - 138s 277ms/step - loss: 0.7801 - accuracy: 0.6486 - val_loss: 0.7958 - val_accuracy: 0.6360 - lr: 0.0010\n",
      "Epoch 25/50\n",
      "497/497 [==============================] - ETA: 0s - loss: 0.7799 - accuracy: 0.6521WARNING:tensorflow:Learning rate reduction is conditioned on metric `val_acc` which is not available. Available metrics are: loss,accuracy,val_loss,val_accuracy,lr\n",
      "497/497 [==============================] - 137s 275ms/step - loss: 0.7799 - accuracy: 0.6521 - val_loss: 0.7815 - val_accuracy: 0.6376 - lr: 0.0010\n"
     ]
    }
   ],
   "source": [
    "epochs=3 if FAST_RUN else 50\n",
    "history = model.fit_generator(\n",
    "    train_generator, \n",
    "    epochs=epochs,\n",
    "    validation_data=validation_generator,\n",
    "    validation_steps=total_validate//batch_size,\n",
    "    steps_per_epoch=total_train//batch_size,\n",
    "    callbacks=callbacks\n",
    ")"
   ]
  },
  {
   "cell_type": "code",
   "execution_count": null,
   "id": "2103c80a",
   "metadata": {},
   "outputs": [],
   "source": [
    "model.save_weights(\"C:/Users/okchr/mechine_learning/model.h5\")"
   ]
  },
  {
   "cell_type": "code",
   "execution_count": null,
   "id": "0dd9f649",
   "metadata": {},
   "outputs": [],
   "source": [
    "fig, (ax1, ax2) = plt.subplots(2, 1, figsize=(12, 12))\n",
    "ax1.plot(history.history['loss'], color='b', label=\"Training loss\")\n",
    "ax1.plot(history.history['val_loss'], color='r', label=\"validation loss\")\n",
    "ax1.set_xticks(np.arange(1, epochs, 1))\n",
    "ax1.set_yticks(np.arange(0, 1, 0.1))\n",
    "\n",
    "ax2.plot(history.history['accuracy'], color='b', label=\"Training accuracy\")\n",
    "ax2.plot(history.history['val_accuracy'], color='r',label=\"Validation accuracy\")\n",
    "ax2.set_xticks(np.arange(1, epochs, 1))\n",
    "\n",
    "legend = plt.legend(loc='best', shadow=True)\n",
    "plt.tight_layout()\n",
    "plt.show()"
   ]
  },
  {
   "cell_type": "code",
   "execution_count": null,
   "id": "266d96ae",
   "metadata": {},
   "outputs": [],
   "source": [
    "test_filenames = os.listdir(\"../input/test1/test1\")\n",
    "test_df = pd.DataFrame({\n",
    "    'filename': test_filenames\n",
    "})\n",
    "nb_samples = test_df.shape[0]"
   ]
  }
 ],
 "metadata": {
  "kernelspec": {
   "display_name": "Python 3",
   "language": "python",
   "name": "python3"
  },
  "language_info": {
   "codemirror_mode": {
    "name": "ipython",
    "version": 3
   },
   "file_extension": ".py",
   "mimetype": "text/x-python",
   "name": "python",
   "nbconvert_exporter": "python",
   "pygments_lexer": "ipython3",
   "version": "3.8.12"
  }
 },
 "nbformat": 4,
 "nbformat_minor": 5
}
